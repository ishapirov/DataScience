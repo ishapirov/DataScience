{
 "cells": [
  {
   "cell_type": "code",
   "execution_count": 1,
   "metadata": {},
   "outputs": [
    {
     "name": "stdout",
     "output_type": "stream",
     "text": [
      "<class 'pandas.core.frame.DataFrame'>\n",
      "RangeIndex: 504 entries, 0 to 503\n",
      "Data columns (total 11 columns):\n",
      " #   Column          Non-Null Count  Dtype  \n",
      "---  ------          --------------  -----  \n",
      " 0   Score           504 non-null    object \n",
      " 1   Period of stay  504 non-null    int64  \n",
      " 2   Traveler type   504 non-null    int64  \n",
      " 3   Pool            504 non-null    int64  \n",
      " 4   Gym             504 non-null    int64  \n",
      " 5   Tennis court    504 non-null    int64  \n",
      " 6   Spa             504 non-null    int64  \n",
      " 7   Casino          504 non-null    int64  \n",
      " 8   Free internet   504 non-null    int64  \n",
      " 9   Hotel stars     504 non-null    int64  \n",
      " 10  Nr. rooms       503 non-null    float64\n",
      "dtypes: float64(1), int64(9), object(1)\n",
      "memory usage: 43.4+ KB\n"
     ]
    }
   ],
   "source": [
    "%matplotlib inline\n",
    "import pandas as pd\n",
    "import numpy as np\n",
    "import matplotlib\n",
    "import matplotlib.pyplot as plt\n",
    "import seaborn as sns\n",
    "from sklearn import preprocessing\n",
    "\n",
    "adf = pd.read_csv('Processed.csv')\n",
    "adf=adf[['Score','Period of stay','Traveler type','Pool','Gym','Tennis court','Spa','Casino','Free internet','Hotel stars','Nr. rooms']]\n",
    "adf.info()"
   ]
  },
  {
   "cell_type": "markdown",
   "metadata": {},
   "source": [
    "Getting descriptive features"
   ]
  },
  {
   "cell_type": "code",
   "execution_count": 2,
   "metadata": {},
   "outputs": [
    {
     "name": "stdout",
     "output_type": "stream",
     "text": [
      "High    391\n",
      "Low     113\n",
      "Name: Score, dtype: int64\n",
      "\n",
      "\n",
      "0    128\n",
      "2    126\n",
      "1    126\n",
      "3    124\n",
      "Name: Period of stay, dtype: int64\n",
      "\n",
      "\n",
      "0    214\n",
      "1    110\n",
      "2     82\n",
      "3     74\n",
      "4     24\n",
      "Name: Traveler type, dtype: int64\n",
      "\n",
      "\n",
      "1    480\n",
      "0     24\n",
      "Name: Pool, dtype: int64\n",
      "\n",
      "\n",
      "1    480\n",
      "0     24\n",
      "Name: Gym, dtype: int64\n",
      "\n",
      "\n",
      "0    384\n",
      "1    120\n",
      "Name: Tennis court, dtype: int64\n",
      "\n",
      "\n",
      "1    384\n",
      "0    120\n",
      "Name: Spa, dtype: int64\n",
      "\n",
      "\n",
      "1    456\n",
      "0     48\n",
      "Name: Casino, dtype: int64\n",
      "\n",
      "\n",
      "1    480\n",
      "0     24\n",
      "Name: Free internet, dtype: int64\n",
      "\n",
      "\n",
      "5    192\n",
      "3    168\n",
      "4    144\n",
      "Name: Hotel stars, dtype: int64\n",
      "\n",
      "\n",
      "0.137536    24\n",
      "0.270904    24\n",
      "1.000000    24\n",
      "0.733264    24\n",
      "0.333160    24\n",
      "0.738995    24\n",
      "0.702266    24\n",
      "0.480854    24\n",
      "0.141704    24\n",
      "0.721803    24\n",
      "0.654337    24\n",
      "0.156030    24\n",
      "0.284970    24\n",
      "0.033082    24\n",
      "0.710602    24\n",
      "0.988018    24\n",
      "0.933837    24\n",
      "0.975514    24\n",
      "0.166189    24\n",
      "0.000000    24\n",
      "0.823131    23\n",
      "Name: Nr. rooms, dtype: int64\n",
      "\n",
      "\n"
     ]
    }
   ],
   "source": [
    "col_list = []\n",
    "for (name, series) in adf.iteritems():\n",
    "    if name != 'Score':\n",
    "        col_list.append(name)\n",
    "        \n",
    "for (name, series) in adf.iteritems():\n",
    "    print(adf[name].value_counts())\n",
    "    print(\"\\n\")\n",
    "    "
   ]
  },
  {
   "cell_type": "markdown",
   "metadata": {},
   "source": [
    "Performing Undersampling to get even distribution of scores"
   ]
  },
  {
   "cell_type": "code",
   "execution_count": 3,
   "metadata": {},
   "outputs": [
    {
     "data": {
      "text/plain": [
       "High    113\n",
       "Low     113\n",
       "Name: Score, dtype: int64"
      ]
     },
     "execution_count": 3,
     "metadata": {},
     "output_type": "execute_result"
    }
   ],
   "source": [
    "sampHigh = adf[adf['Score'] == \"High\"].sample(n=113)\n",
    "sampLow = adf[adf['Score'] == \"Low\"].sample(n=113,replace=False)\n",
    "adf = pd.concat([sampHigh,sampLow],axis=0)\n",
    "adf = adf.sample(frac=1)\n",
    "adf = adf.reset_index(drop=True)\n",
    "adf[\"Score\"].value_counts()"
   ]
  },
  {
   "cell_type": "markdown",
   "metadata": {},
   "source": [
    "Splitting dataset into training and testing data (67% of samples become training data, 33% testing)"
   ]
  },
  {
   "cell_type": "code",
   "execution_count": 4,
   "metadata": {},
   "outputs": [],
   "source": [
    "adf_desc = adf[col_list]\n",
    "adf_cols = adf_desc.columns\n",
    "\n",
    "X = adf_desc[col_list].values\n",
    "Y = adf['Score'].values\n",
    "\n",
    "from sklearn.model_selection import train_test_split\n",
    "XN = adf[adf_cols]\n",
    "y = adf['Score']\n",
    "X_train, X_test, Y_train, Y_test = train_test_split(XN,y,test_size =0.33,random_state=0)"
   ]
  },
  {
   "cell_type": "markdown",
   "metadata": {},
   "source": [
    "Performing classification and finding best K value"
   ]
  },
  {
   "cell_type": "code",
   "execution_count": 5,
   "metadata": {},
   "outputs": [
    {
     "name": "stdout",
     "output_type": "stream",
     "text": [
      "     KNN  Score for Training  Score for Testing\n",
      "1    1.0            0.927152           0.520000\n",
      "2    2.0            0.788079           0.520000\n",
      "3    3.0            0.781457           0.506667\n",
      "4    4.0            0.708609           0.533333\n",
      "5    5.0            0.701987           0.546667\n",
      "6    6.0            0.682119           0.480000\n",
      "7    7.0            0.715232           0.506667\n",
      "8    8.0            0.688742           0.533333\n",
      "9    9.0            0.675497           0.533333\n",
      "10  10.0            0.668874           0.520000\n",
      "11  11.0            0.668874           0.546667\n",
      "12  12.0            0.629139           0.480000\n",
      "13  13.0            0.662252           0.506667\n",
      "14  14.0            0.629139           0.453333\n",
      "15  15.0            0.668874           0.480000\n",
      "16  16.0            0.649007           0.440000\n",
      "17  17.0            0.688742           0.480000\n",
      "18  18.0            0.688742           0.466667\n",
      "19  19.0            0.675497           0.426667\n"
     ]
    },
    {
     "data": {
      "text/plain": [
       "[Text(0, 0.5, 'accuracy'), Text(0.5, 0, 'k')]"
      ]
     },
     "execution_count": 5,
     "metadata": {},
     "output_type": "execute_result"
    },
    {
     "data": {
      "image/png": "[encoded data removed]",
      "text/plain": [
       "<Figure size 432x288 with 1 Axes>"
      ]
     },
     "metadata": {
      "needs_background": "light"
     },
     "output_type": "display_data"
    }
   ],
   "source": [
    "from sklearn.neighbors import KNeighborsClassifier\n",
    "resultsKNN = pd.DataFrame(columns = ['KNN','Score for Training','Score for Testing'])\n",
    "for knnCount in range(1,20):\n",
    "    knn = KNeighborsClassifier(n_neighbors = knnCount,p=2,metric='minkowski')\n",
    "    knn.fit(X_train,Y_train)\n",
    "    scoreTrain = knn.score(X_train,Y_train)\n",
    "    scoreTest = knn.score(X_test,Y_test)\n",
    "    resultsKNN.loc[knnCount] = [knnCount,scoreTrain,scoreTest]\n",
    "    \n",
    "print(resultsKNN.head(20))\n",
    "resultsKNN.pop('KNN')\n",
    "ax = resultsKNN.plot(title=\"Number of Neighbours vs Accuracy\")\n",
    "ax.set(xlabel='k',ylabel='accuracy')"
   ]
  },
  {
   "cell_type": "code",
   "execution_count": 6,
   "metadata": {},
   "outputs": [
    {
     "name": "stdout",
     "output_type": "stream",
     "text": [
      "              precision    recall  f1-score   support\n",
      "\n",
      "        High       0.55      0.58      0.56        38\n",
      "         Low       0.54      0.51      0.53        37\n",
      "\n",
      "    accuracy                           0.55        75\n",
      "   macro avg       0.55      0.55      0.55        75\n",
      "weighted avg       0.55      0.55      0.55        75\n",
      "\n"
     ]
    },
    {
     "data": {
      "image/png": "[encoded data removed]",
      "text/plain": [
       "<Figure size 180x180 with 1 Axes>"
      ]
     },
     "metadata": {
      "needs_background": "light"
     },
     "output_type": "display_data"
    }
   ],
   "source": [
    "knn = KNeighborsClassifier(n_neighbors = 5,p=2,metric='minkowski')\n",
    "knn.fit(X_train,Y_train)\n",
    "scoreTrain = knn.score(X_train,Y_train)\n",
    "scoreTest = knn.score(X_test,Y_test)\n",
    "y_pred = knn.predict(X_test)\n",
    "\n",
    "from sklearn.metrics import classification_report, confusion_matrix\n",
    "\n",
    "confmat = confusion_matrix(Y_test, y_pred)\n",
    "fig, ax = plt.subplots(figsize=(2.5,2.5))\n",
    "ax.matshow(confmat,cmap=plt.cm.Blues, alpha=0.3)\n",
    "for i in range(confmat.shape[0]):\n",
    "    for j in range(confmat.shape[1]):\n",
    "        ax.text(x=j,y=i,s=confmat[i,j], va='center',ha='center')\n",
    "plt.xlabel('predicted value')\n",
    "plt.ylabel('actual value')\n",
    "\n",
    "\n",
    "print(classification_report(Y_test, y_pred))"
   ]
  },
  {
   "cell_type": "markdown",
   "metadata": {},
   "source": [
    "Information-Based Model"
   ]
  },
  {
   "cell_type": "code",
   "execution_count": 7,
   "metadata": {},
   "outputs": [],
   "source": [
    "adf_desc = adf[col_list]\n",
    "adf_cols = adf_desc.columns\n",
    "\n",
    "X = adf_desc[col_list].values\n",
    "Y = adf['Score'].values\n",
    "\n",
    "X_train, X_test, Y_train, Y_test = train_test_split(XN,y,test_size =0.33,random_state=0)"
   ]
  },
  {
   "cell_type": "code",
   "execution_count": 8,
   "metadata": {},
   "outputs": [
    {
     "name": "stdout",
     "output_type": "stream",
     "text": [
      "DecisionTreeClassifier(ccp_alpha=0.0, class_weight=None, criterion='entropy',\n",
      "                       max_depth=3, max_features=None, max_leaf_nodes=None,\n",
      "                       min_impurity_decrease=0.0, min_impurity_split=None,\n",
      "                       min_samples_leaf=1, min_samples_split=2,\n",
      "                       min_weight_fraction_leaf=0.0, presort='deprecated',\n",
      "                       random_state=0, splitter='best')\n"
     ]
    }
   ],
   "source": [
    "from sklearn.tree import DecisionTreeClassifier\n",
    "\n",
    "dt = DecisionTreeClassifier(criterion=\"entropy\", max_depth=3, random_state=0)\n",
    "dt = dt.fit(X_train,Y_train)\n",
    "print(dt)"
   ]
  },
  {
   "cell_type": "markdown",
   "metadata": {},
   "source": [
    "Using entropy"
   ]
  },
  {
   "cell_type": "code",
   "execution_count": 9,
   "metadata": {},
   "outputs": [
    {
     "name": "stdout",
     "output_type": "stream",
     "text": [
      "    LevelLimit  Score for Training  Score for Testing\n",
      "1          1.0            0.622517           0.546667\n",
      "2          2.0            0.635762           0.600000\n",
      "3          3.0            0.682119           0.533333\n",
      "4          4.0            0.721854           0.520000\n",
      "5          5.0            0.754967           0.520000\n",
      "6          6.0            0.827815           0.520000\n",
      "7          7.0            0.860927           0.533333\n",
      "8          8.0            0.894040           0.533333\n",
      "9          9.0            0.907285           0.533333\n",
      "10        10.0            0.927152           0.533333\n"
     ]
    }
   ],
   "source": [
    "resultsEntropy = pd.DataFrame(columns = ['LevelLimit','Score for Training','Score for Testing'])\n",
    "for treeDepth in range(1,11):\n",
    "    dt_i = DecisionTreeClassifier(criterion=\"entropy\", max_depth=treeDepth, random_state=0)\n",
    "    dt_i = dt_i.fit(X_train,Y_train)\n",
    "    dt_i.predict(X_test)\n",
    "    scoreTrain = dt_i.score(X_train,Y_train)\n",
    "    scoreTest = dt_i.score(X_test,Y_test)\n",
    "    resultsEntropy.loc[treeDepth] = [treeDepth,scoreTrain,scoreTest]\n",
    "    \n",
    "print(resultsEntropy)"
   ]
  },
  {
   "cell_type": "code",
   "execution_count": 11,
   "metadata": {},
   "outputs": [
    {
     "name": "stdout",
     "output_type": "stream",
     "text": [
      "              precision    recall  f1-score   support\n",
      "\n",
      "        High       0.56      0.92      0.70        38\n",
      "         Low       0.77      0.27      0.40        37\n",
      "\n",
      "    accuracy                           0.60        75\n",
      "   macro avg       0.67      0.60      0.55        75\n",
      "weighted avg       0.67      0.60      0.55        75\n",
      "\n"
     ]
    },
    {
     "data": {
      "image/png": "[encoded data removed]",
      "text/plain": [
       "<Figure size 180x180 with 1 Axes>"
      ]
     },
     "metadata": {
      "needs_background": "light"
     },
     "output_type": "display_data"
    }
   ],
   "source": [
    "dt_i = DecisionTreeClassifier(criterion=\"entropy\", max_depth=2, random_state=0)\n",
    "dt_i = dt_i.fit(X_train,Y_train)\n",
    "y_pred = dt_i.predict(X_test)\n",
    "\n",
    "from sklearn.metrics import confusion_matrix\n",
    "\n",
    "confmat = confusion_matrix(y_true=Y_test, y_pred=y_pred)\n",
    "fig, ax = plt.subplots(figsize=(2.5,2.5))\n",
    "ax.matshow(confmat,cmap=plt.cm.Blues, alpha=0.3)\n",
    "for i in range(confmat.shape[0]):\n",
    "    for j in range(confmat.shape[1]):\n",
    "        ax.text(x=j,y=i,s=confmat[i,j], va='center',ha='center')\n",
    "plt.xlabel('predicted value')\n",
    "plt.ylabel('actual value')\n",
    "\n",
    "\n",
    "print(classification_report(Y_test, y_pred))"
   ]
  },
  {
   "cell_type": "markdown",
   "metadata": {},
   "source": [
    "Using gini"
   ]
  },
  {
   "cell_type": "code",
   "execution_count": 12,
   "metadata": {},
   "outputs": [
    {
     "name": "stdout",
     "output_type": "stream",
     "text": [
      "    LevelLimit  Score for Training  Score for Testing\n",
      "1          1.0            0.622517           0.546667\n",
      "2          2.0            0.635762           0.600000\n",
      "3          3.0            0.682119           0.533333\n",
      "4          4.0            0.721854           0.520000\n",
      "5          5.0            0.768212           0.520000\n",
      "6          6.0            0.827815           0.533333\n",
      "7          7.0            0.860927           0.520000\n",
      "8          8.0            0.894040           0.546667\n",
      "9          9.0            0.907285           0.520000\n",
      "10        10.0            0.927152           0.546667\n"
     ]
    }
   ],
   "source": [
    "resultsGini = pd.DataFrame(columns = ['LevelLimit','Score for Training','Score for Testing'])\n",
    "for treeDepth in range(1,11):\n",
    "    dt_i = DecisionTreeClassifier(criterion=\"gini\", max_depth=treeDepth, random_state=0)\n",
    "    dt_i = dt_i.fit(X_train,Y_train)\n",
    "    y_pred = dt_i.predict(X_test)\n",
    "    scoreTrain = dt_i.score(X_train,Y_train)\n",
    "    scoreTest = dt_i.score(X_test,Y_test)\n",
    "    resultsGini.loc[treeDepth] = [treeDepth,scoreTrain,scoreTest]\n",
    "\n",
    "print(resultsGini)"
   ]
  },
  {
   "cell_type": "code",
   "execution_count": 14,
   "metadata": {},
   "outputs": [
    {
     "name": "stdout",
     "output_type": "stream",
     "text": [
      "              precision    recall  f1-score   support\n",
      "\n",
      "        High       0.56      0.92      0.70        38\n",
      "         Low       0.77      0.27      0.40        37\n",
      "\n",
      "    accuracy                           0.60        75\n",
      "   macro avg       0.67      0.60      0.55        75\n",
      "weighted avg       0.67      0.60      0.55        75\n",
      "\n"
     ]
    },
    {
     "data": {
      "image/png": "[encoded data removed]",
      "text/plain": [
       "<Figure size 180x180 with 1 Axes>"
      ]
     },
     "metadata": {
      "needs_background": "light"
     },
     "output_type": "display_data"
    }
   ],
   "source": [
    "dt_i = DecisionTreeClassifier(criterion=\"gini\", max_depth=2, random_state=0)\n",
    "dt_i = dt_i.fit(X_train,Y_train)\n",
    "y_pred = dt_i.predict(X_test)\n",
    "\n",
    "\n",
    "confmat = confusion_matrix(y_true=Y_test, y_pred=y_pred)\n",
    "fig, ax = plt.subplots(figsize=(2.5,2.5))\n",
    "ax.matshow(confmat,cmap=plt.cm.Blues, alpha=0.3)\n",
    "for i in range(confmat.shape[0]):\n",
    "    for j in range(confmat.shape[1]):\n",
    "        ax.text(x=j,y=i,s=confmat[i,j], va='center',ha='center')\n",
    "plt.xlabel('predicted value')\n",
    "plt.ylabel('actual value')\n",
    "\n",
    "\n",
    "print(classification_report(Y_test, y_pred))"
   ]
  },
  {
   "cell_type": "markdown",
   "metadata": {},
   "source": [
    "Visualization Entropy Accuracy"
   ]
  },
  {
   "cell_type": "code",
   "execution_count": 15,
   "metadata": {},
   "outputs": [
    {
     "data": {
      "text/plain": [
       "[Text(0, 0.5, 'Accuracy'), Text(0.5, 0, 'Tree depth')]"
      ]
     },
     "execution_count": 15,
     "metadata": {},
     "output_type": "execute_result"
    },
    {
     "data": {
      "image/png": "[encoded data removed]",
      "text/plain": [
       "<Figure size 432x288 with 1 Axes>"
      ]
     },
     "metadata": {
      "needs_background": "light"
     },
     "output_type": "display_data"
    }
   ],
   "source": [
    "ax = resultsEntropy.plot.line(x='LevelLimit',y=['Score for Training','Score for Testing'],title=\"Entropy Tree Depth vs Accuracy\")\n",
    "ax.set(xlabel='Tree depth',ylabel='Accuracy')"
   ]
  },
  {
   "cell_type": "markdown",
   "metadata": {},
   "source": [
    "Visualization Gini Accuracy"
   ]
  },
  {
   "cell_type": "code",
   "execution_count": 16,
   "metadata": {},
   "outputs": [
    {
     "data": {
      "text/plain": [
       "[Text(0, 0.5, 'Accuracy'), Text(0.5, 0, 'Tree depth')]"
      ]
     },
     "execution_count": 16,
     "metadata": {},
     "output_type": "execute_result"
    },
    {
     "data": {
      "image/png": "[encoded data removed]",
      "text/plain": [
       "<Figure size 432x288 with 1 Axes>"
      ]
     },
     "metadata": {
      "needs_background": "light"
     },
     "output_type": "display_data"
    }
   ],
   "source": [
    "ax = resultsGini.plot.line(x='LevelLimit',y=['Score for Training','Score for Testing'],title=\"Gini Tree Depth vs Accuracy\")\n",
    "ax.set(xlabel='Tree depth',ylabel='Accuracy')"
   ]
  },
  {
   "cell_type": "markdown",
   "metadata": {},
   "source": [
    "Naive Bayes"
   ]
  },
  {
   "cell_type": "code",
   "execution_count": 17,
   "metadata": {},
   "outputs": [],
   "source": [
    "adf_desc = adf[col_list]\n",
    "adf_cols = adf_desc.columns\n",
    "\n",
    "X = adf_desc[col_list].values\n",
    "Y = adf['Score'].values\n",
    "\n",
    "X_train, X_test, Y_train, Y_test = train_test_split(XN,y,test_size =0.33,random_state=0)"
   ]
  },
  {
   "cell_type": "code",
   "execution_count": 18,
   "metadata": {},
   "outputs": [
    {
     "data": {
      "text/plain": [
       "0.56"
      ]
     },
     "execution_count": 18,
     "metadata": {},
     "output_type": "execute_result"
    }
   ],
   "source": [
    "from sklearn.naive_bayes import GaussianNB\n",
    "\n",
    "gnb = GaussianNB()\n",
    "gnb = gnb.fit(X_train,Y_train)\n",
    "y_pred = gnb.predict(X_test)\n",
    "gnb.score(X_test,Y_test)"
   ]
  },
  {
   "cell_type": "code",
   "execution_count": 19,
   "metadata": {},
   "outputs": [
    {
     "name": "stdout",
     "output_type": "stream",
     "text": [
      "              precision    recall  f1-score   support\n",
      "\n",
      "        High       0.54      0.89      0.67        38\n",
      "         Low       0.67      0.22      0.33        37\n",
      "\n",
      "    accuracy                           0.56        75\n",
      "   macro avg       0.60      0.56      0.50        75\n",
      "weighted avg       0.60      0.56      0.50        75\n",
      "\n"
     ]
    },
    {
     "data": {
      "image/png": "[encoded data removed]",
      "text/plain": [
       "<Figure size 180x180 with 1 Axes>"
      ]
     },
     "metadata": {
      "needs_background": "light"
     },
     "output_type": "display_data"
    }
   ],
   "source": [
    "from sklearn.metrics import confusion_matrix\n",
    "\n",
    "labels = [\"\"]\n",
    "confmat = confusion_matrix(y_true=Y_test, y_pred=y_pred)\n",
    "fig, ax = plt.subplots(figsize=(2.5,2.5))\n",
    "ax.matshow(confmat,cmap=plt.cm.Blues, alpha=0.3)\n",
    "for i in range(confmat.shape[0]):\n",
    "    for j in range(confmat.shape[1]):\n",
    "        ax.text(x=j,y=i,s=confmat[i,j], va='center',ha='center')\n",
    "plt.xlabel('predicted value')\n",
    "plt.ylabel('actual value')\n",
    "from sklearn.metrics import classification_report\n",
    "print(classification_report(Y_test,y_pred))"
   ]
  },
  {
   "cell_type": "markdown",
   "metadata": {},
   "source": [
    "Logistic Regression"
   ]
  },
  {
   "cell_type": "code",
   "execution_count": 20,
   "metadata": {},
   "outputs": [],
   "source": [
    "adf_desc = adf[col_list]\n",
    "adf_cols = adf_desc.columns\n",
    "\n",
    "X = adf_desc[col_list].values\n",
    "Y = adf['Score'].values\n",
    "\n",
    "X_train, X_test, Y_train, Y_test = train_test_split(XN,y,test_size =0.33,random_state=0)"
   ]
  },
  {
   "cell_type": "code",
   "execution_count": 21,
   "metadata": {},
   "outputs": [
    {
     "name": "stdout",
     "output_type": "stream",
     "text": [
      "0.56\n",
      "              precision    recall  f1-score   support\n",
      "\n",
      "        High       0.56      0.63      0.59        38\n",
      "         Low       0.56      0.49      0.52        37\n",
      "\n",
      "    accuracy                           0.56        75\n",
      "   macro avg       0.56      0.56      0.56        75\n",
      "weighted avg       0.56      0.56      0.56        75\n",
      "\n"
     ]
    },
    {
     "data": {
      "text/plain": [
       "Text(0, 0.5, 'actual value')"
      ]
     },
     "execution_count": 21,
     "metadata": {},
     "output_type": "execute_result"
    },
    {
     "data": {
      "image/png": "[encoded data removed]",
      "text/plain": [
       "<Figure size 180x180 with 1 Axes>"
      ]
     },
     "metadata": {
      "needs_background": "light"
     },
     "output_type": "display_data"
    }
   ],
   "source": [
    "from sklearn.linear_model import LogisticRegression\n",
    "\n",
    "logmodel = LogisticRegression()\n",
    "logmodel.fit(X_train,Y_train)\n",
    "y_pred = logmodel.predict(X_test)\n",
    "print(logmodel.score(X_test,Y_test))\n",
    "\n",
    "from sklearn.metrics import classification_report\n",
    "print(classification_report(Y_test,y_pred))\n",
    "confmat = confusion_matrix(y_true=Y_test, y_pred=y_pred)\n",
    "fig, ax = plt.subplots(figsize=(2.5,2.5))\n",
    "ax.matshow(confmat,cmap=plt.cm.Blues, alpha=0.3)\n",
    "for i in range(confmat.shape[0]):\n",
    "    for j in range(confmat.shape[1]):\n",
    "        ax.text(x=j,y=i,s=confmat[i,j], va='center',ha='center')\n",
    "plt.xlabel('predicted value')\n",
    "plt.ylabel('actual value')"
   ]
  }
 ],
 "metadata": {
  "kernelspec": {
   "display_name": "Python 3",
   "language": "python",
   "name": "python3"
  },
  "language_info": {
   "codemirror_mode": {
    "name": "ipython",
    "version": 3
   },
   "file_extension": ".py",
   "mimetype": "text/x-python",
   "name": "python",
   "nbconvert_exporter": "python",
   "pygments_lexer": "ipython3",
   "version": "3.7.4"
  }
 },
 "nbformat": 4,
 "nbformat_minor": 4
}
